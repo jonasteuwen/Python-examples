{
 "cells": [
  {
   "cell_type": "markdown",
   "metadata": {
    "collapsed": true
   },
   "source": [
    "# Image iterators using the multiprocessing module\n",
    "*Jonas Teuwen*"
   ]
  },
  {
   "cell_type": "markdown",
   "metadata": {},
   "source": [
    "In this notebook we show how to combine the multiprocessing module in Python with iterators.\n",
    "\n",
    "This can be useful in deep learning scripts when you, for instance, want to write an iterator which extracts and augments patches from your image on-the-fly to feed to your convolutional neural network (CNN).\n",
    "\n",
    "We simulate the following problem:\n",
    "- You have a list of images, in this case represented by filenames in `self.images`.\n",
    "- We continuously load an image, and put these into a queue, ready to read.\n",
    "- Next should give your next image, in this case we only output the filename.\n",
    "\n",
    "Each process will load one of the images, but as the processes are now separated we need some way to track which images have already been passed and which ones have not. To implement such a counter we can use shared memory in python. The multiprocessing `RawValue` implements such a `ctype` which allows multiple processes to read from the same variable. There is one problem: race conditions. It might happen that the counter value has not been updated yet and then the next process will output the same image. To handle this we use `Lock` to lock the counter when we either read or write to it to prevent such conditions.\n",
    "\n",
    "Note that your output will not necessarily be in the same order as your input as some of the processes processes might complete faster. For CNNs with stochastic gradient decent this is definitely no problem as shuffling improves the result. Check out the Stochastic Gradient Descent Tricks (Sec. 4) at http://cilvr.cs.nyu.edu/diglib/lsml/bottou-sgd-tricks-2012.pdf. \n",
    "\n",
    "For more information check https://docs.python.org/2/library/multiprocessing.html."
   ]
  },
  {
   "cell_type": "code",
   "execution_count": 1,
   "metadata": {
    "collapsed": true
   },
   "outputs": [],
   "source": [
    "import numpy as np\n",
    "from multiprocessing import Process, Value, Lock, Queue\n",
    "from __future__ import division  # This is needed so the division of integers is a float as in Python 3.\n",
    "import math"
   ]
  },
  {
   "cell_type": "markdown",
   "metadata": {},
   "source": [
    "Basic imports. In CNNs you often wish to pass batches of images through the network. We do this by first computing the number of batches we will need. The final batch does not need to have the same size as the others. Often, in the neural network frameworks it is then possible to skip the \"missing\" values. This only requires some small changes.\n",
    "Be careful about shared variables between processes!"
   ]
  },
  {
   "cell_type": "code",
   "execution_count": 2,
   "metadata": {
    "collapsed": true
   },
   "outputs": [],
   "source": [
    "class Iter(object):\n",
    "    def __init__(self,batch_size):\n",
    "        self.images = ['image_{}.jpg'.format(i) for i in range(20)]\n",
    "        self.n_images = len(self.images)\n",
    "        self.batch_size = batch_size\n",
    "        self.n_batches = int(math.ceil(self.n_images / batch_size))\n",
    "        self.cur_batch = 0\n",
    "    \n",
    "        self.reset()\n",
    "            \n",
    "    def reset(self):\n",
    "        self.shared_val = Value('i', 0)\n",
    "        self.lock = Lock()\n",
    "        self.q = Queue(maxsize=2)\n",
    "        self.procs = [Process(target=self.write, args=(self.shared_val, self.lock)) for i in range(4)]\n",
    "        for p in self.procs:\n",
    "            p.daemon = True\n",
    "            p.start()\n",
    "    \n",
    "    def get_batch(self, offset):\n",
    "        i = 0\n",
    "        batch = []\n",
    "        while i < self.batch_size:\n",
    "            if offset + i < self.n_images:\n",
    "                batch.append(self.images[offset + i])\n",
    "                i += 1\n",
    "            else:\n",
    "                break\n",
    "        return batch\n",
    "            \n",
    "    def write(self, v, lock):\n",
    "        while True:\n",
    "            with lock:\n",
    "                idx = v.value\n",
    "                v.value += self.batch_size\n",
    "\n",
    "            if idx < self.n_images:\n",
    "                batch = self.get_batch(idx)\n",
    "                self.q.put(batch, block=True)\n",
    "    \n",
    "    def next(self):\n",
    "        self.cur_batch += 1\n",
    "        if self.cur_batch > self.n_batches:\n",
    "\n",
    "            raise StopIteration()\n",
    "        if self.q.empty():\n",
    "            # This is called when the queue is empty, for instance, when waiting for data.\n",
    "            pass\n",
    "        return self.q.get()"
   ]
  },
  {
   "cell_type": "markdown",
   "metadata": {},
   "source": [
    "Let us test. Remember there are 10 images."
   ]
  },
  {
   "cell_type": "code",
   "execution_count": null,
   "metadata": {},
   "outputs": [],
   "source": [
    "s = Iter(2)\n",
    "vals = []\n",
    "for i in range(10):\n",
    "    vals.append(s.next())\n",
    "vals"
   ]
  },
  {
   "cell_type": "markdown",
   "metadata": {},
   "source": [
    "Or a batch size of 3, which does not divide the total number of images."
   ]
  },
  {
   "cell_type": "code",
   "execution_count": null,
   "metadata": {
    "scrolled": true
   },
   "outputs": [],
   "source": [
    "s = Iter(3)\n",
    "vals = []\n",
    "for i in range(6):\n",
    "    vals.append(s.next())\n",
    "vals"
   ]
  },
  {
   "cell_type": "markdown",
   "metadata": {},
   "source": [
    "What about when we want to access too many of the images?"
   ]
  },
  {
   "cell_type": "code",
   "execution_count": null,
   "metadata": {},
   "outputs": [],
   "source": [
    "s = Iter(4)\n",
    "vals = []\n",
    "for i in range(6):\n",
    "    vals.append(s.next())\n",
    "vals"
   ]
  },
  {
   "cell_type": "markdown",
   "metadata": {},
   "source": [
    "Good!"
   ]
  },
  {
   "cell_type": "code",
   "execution_count": null,
   "metadata": {
    "collapsed": true
   },
   "outputs": [],
   "source": []
  }
 ],
 "metadata": {
  "kernelspec": {
   "display_name": "Python 2",
   "language": "python",
   "name": "python2"
  },
  "language_info": {
   "codemirror_mode": {
    "name": "ipython",
    "version": 2
   },
   "file_extension": ".py",
   "mimetype": "text/x-python",
   "name": "python",
   "nbconvert_exporter": "python",
   "pygments_lexer": "ipython2",
   "version": "2.7.13"
  }
 },
 "nbformat": 4,
 "nbformat_minor": 2
}
